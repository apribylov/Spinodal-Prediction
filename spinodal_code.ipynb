{
 "cells": [
  {
   "cell_type": "markdown",
   "id": "b0b18c48",
   "metadata": {},
   "source": [
    "## Основной код"
   ]
  },
  {
   "cell_type": "markdown",
   "id": "d408db10",
   "metadata": {},
   "source": [
    "### Коэффициент изобарного расширения рассчитывается на изотермах как функция давления."
   ]
  },
  {
   "cell_type": "code",
   "execution_count": 36,
   "id": "6c35c8bc",
   "metadata": {},
   "outputs": [],
   "source": [
    "import numpy as np\n",
    "\n",
    "# Словарь для хранения коэффициентов спинодального выражения. Ключи - значения температуры\n",
    "fit_coefs = {}\n",
    "\n",
    "# Функция для получения знаений коэффициентов спинодальной формы\n",
    "# Вход: Ts : list - массив значений температур [К]\n",
    "#       aps: list - массив значений коэффициента изобарного расширения [1/К] при температурах Ts\n",
    "#       kTs: list - массив значений изотермической сжимаемости [1/МПа] при температурах Ts\n",
    "def get_spinodal_1(Ts, aps, kTs):\n",
    "        \n",
    "    try:\n",
    "        fit = np.polyfit(np.array(Ts), np.log(np.array(kTs)), 1)\n",
    "    except:\n",
    "        print('Failed fitting')\n",
    "        return\n",
    "        \n",
    "    for i in range(len(Ts)):\n",
    "           \n",
    "        kT_T = fit[0] * np.exp(fit[0]*Ts[i]+fit[1])\n",
    "        fit_coefs[Ts[i]] = [2/aps[i]*kT_T, aps[i]]\n",
    "    \n",
    "    return\n",
    "\n",
    "# Функция для получения знаений коэффициентов спинодальной формы\n",
    "# Вход: Ts   : list - массив значений температур [К]\n",
    "#       ap   : list - массив значений коэффициента изобарного расширения [1/К] при температурах Ts\n",
    "#       kTs_T: list - массив значений производной изотермической сжимаемости [1/МПа/К] при температурах Ts\n",
    "def get_spinodal_2(Ts, aps, kTs_T):\n",
    "        \n",
    "    for i in range(len(Ts)):\n",
    "        fit_coefs[Ts[i]] = [2/aps[i]*kTs_T[i], aps[i]]\n",
    "    \n",
    "    return\n",
    "      \n",
    "# Функция для расчета значений коэффициента термического расширения\n",
    "# перед использованием необходим вызов функции fit_data\n",
    "# Вход: p : float - значение давления [МПа]\n",
    "#       T : float - значение температуры [К]\n",
    "def ap_pred(P, T):\n",
    "    \n",
    "    A = fit_coefs[T][0]\n",
    "    B = fit_coefs[T][1]\n",
    "    \n",
    "    return B / (1 + A * (P - 0.1))**0.5"
   ]
  },
  {
   "cell_type": "markdown",
   "id": "3b0938a8",
   "metadata": {},
   "source": [
    "## Пример\n",
    "\n",
    "### предсказание $\\alpha_p$ сжатой смеси гептана и этанола"
   ]
  },
  {
   "cell_type": "code",
   "execution_count": 2,
   "id": "6324f489",
   "metadata": {},
   "outputs": [
    {
     "name": "stdout",
     "output_type": "stream",
     "text": [
      "0.0008555213765571343\n",
      "0.0008091745130009482\n"
     ]
    }
   ],
   "source": [
    "Ts  = [293, 295, 303, 308, 313, 318]\n",
    "aps = [1.233e-3, 1.240e-3, 1.269e-3, 1.288e-3, 1.307e-3, 1.326e-3]\n",
    "kTs = [1.301e-3, 1.352e-3, 1.405e-3, 1.460e-3, 1.518e-3, 1.578e-3]\n",
    "\n",
    "get_spinodal_1(Ts, aps, kTs)\n",
    "\n",
    "# значение коэффициента изобарного расшиерния при p=100 МПа и T=295 K\n",
    "print(ap_pred(100, 303))    # K^-1\n",
    "\n",
    "# значение коэффициента изобарного расшиерния при p=200 МПа и T=318 K\n",
    "print(ap_pred(150, 318))    # K^-1"
   ]
  },
  {
   "cell_type": "code",
   "execution_count": null,
   "id": "7816f7fc",
   "metadata": {},
   "outputs": [],
   "source": []
  }
 ],
 "metadata": {
  "kernelspec": {
   "display_name": "Python 3 (ipykernel)",
   "language": "python",
   "name": "python3"
  },
  "language_info": {
   "codemirror_mode": {
    "name": "ipython",
    "version": 3
   },
   "file_extension": ".py",
   "mimetype": "text/x-python",
   "name": "python",
   "nbconvert_exporter": "python",
   "pygments_lexer": "ipython3",
   "version": "3.9.12"
  }
 },
 "nbformat": 4,
 "nbformat_minor": 5
}
